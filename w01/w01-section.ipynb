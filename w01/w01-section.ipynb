{
 "cells": [
  {
   "cell_type": "code",
   "execution_count": 2,
   "metadata": {},
   "outputs": [],
   "source": [
    "import numpy as np\n",
    "import math\n",
    "import random\n",
    "import matplotlib.pyplot as plt"
   ]
  },
  {
   "cell_type": "markdown",
   "metadata": {
    "tags": []
   },
   "source": [
    "### Simulating an $L=10^6$ genome "
   ]
  },
  {
   "cell_type": "code",
   "execution_count": 4,
   "metadata": {},
   "outputs": [],
   "source": [
    "# We define a function to generate a random sequence of nucleotide with a fixed length\n",
    "\n",
    "# X: alphabet of four nucleotides\n",
    "# L: length of the sequence\n",
    "# p: probability of occurrence of each nucleotide\n",
    "\n",
    "# This is the space of possible nucleotides\n",
    "X = [\"A\",\"T\",\"C\",\"G\"]\n",
    "\n",
    "def get_sequence(X,L,p):\n",
    "    \n",
    "    s = np.random.choice(X, \n",
    "              size=L, \n",
    "              replace=True, \n",
    "              p=p)\n",
    "    \n",
    "    return s"
   ]
  },
  {
   "cell_type": "code",
   "execution_count": 5,
   "metadata": {},
   "outputs": [],
   "source": [
    "# Genome size\n",
    "L = 10**6\n",
    "\n",
    "# Probability of each nucleotide for a low-complexity genome  (entropy is small)\n",
    "# p = [0.9,0.1/3,0.1/3,0.1/3]\n",
    "\n",
    "# Probability of each nucleotide for a high-complexity genome (entropy is large)\n",
    "p = [1/4,1/4,1/4,1/4]\n",
    "\n",
    "# Generate the genome\n",
    "G = get_sequence(X,L,p)"
   ]
  },
  {
   "cell_type": "code",
   "execution_count": 10,
   "metadata": {},
   "outputs": [
    {
     "data": {
      "text/plain": [
       "array(['T', 'A', 'G', ..., 'C', 'A', 'C'], dtype='<U1')"
      ]
     },
     "execution_count": 10,
     "metadata": {},
     "output_type": "execute_result"
    }
   ],
   "source": [
    "# inpsect the genome\n",
    "G"
   ]
  },
  {
   "cell_type": "code",
   "execution_count": 11,
   "metadata": {},
   "outputs": [],
   "source": [
    "def get_occurrence(M,G):\n",
    "    \n",
    "    # M: motif, a numpy array of nucleotides\n",
    "    # G: genome, a numpy array of nucleotides\n",
    "    \n",
    "    # the length of the motif within this function\n",
    "    l = np.size(M)\n",
    "    \n",
    "    # compare the first nucleotide from the motif against the entire genome\n",
    "    index_G_matched = np.where(M[0] == G)[0]\n",
    "    \n",
    "    for i in np.arange(1,l):\n",
    "\n",
    "        # possible positions on the genome for the next comparison\n",
    "        index_tmp = (index_G_matched + 1)[(index_G_matched + 1) <= (L-1)]\n",
    "\n",
    "        # nucleotides from those positions in the genome\n",
    "        G_subset = G[index_tmp]\n",
    "\n",
    "        # compare the next nucleotide in the motif against those genomic nucleotides\n",
    "        index_G_matched = index_tmp[np.where(M[i] == G_subset)[0]]\n",
    "        \n",
    "    return np.size(index_G_matched)\n"
   ]
  },
  {
   "cell_type": "code",
   "execution_count": 14,
   "metadata": {},
   "outputs": [],
   "source": [
    "# Motif size\n",
    "l = 8  \n",
    "\n",
    "# Probability of each nucleotide for low-complexity motifs\n",
    "# p = [0.7,0.1,0.1,0.1]\n",
    "\n",
    "# Probability of each nucleotide for high-complexity motifs\n",
    "p = [1/4,1/4,1/4,1/4]\n",
    "\n",
    "# Generate the motif\n",
    "M = get_sequence(X,l,p)"
   ]
  },
  {
   "cell_type": "code",
   "execution_count": 15,
   "metadata": {},
   "outputs": [
    {
     "data": {
      "text/plain": [
       "array(['G', 'A', 'G', 'C', 'C', 'G', 'G', 'G'], dtype='<U1')"
      ]
     },
     "execution_count": 15,
     "metadata": {},
     "output_type": "execute_result"
    }
   ],
   "source": [
    "# inspect the motif\n",
    "M"
   ]
  },
  {
   "cell_type": "code",
   "execution_count": 16,
   "metadata": {},
   "outputs": [
    {
     "data": {
      "text/plain": [
       "'GAGCCGGG'"
      ]
     },
     "execution_count": 16,
     "metadata": {},
     "output_type": "execute_result"
    }
   ],
   "source": [
    "# you can also join nucleotides into a string using this:\n",
    "# but it might crash a small-memory computer if sequence is very long\n",
    "\n",
    "''.join(M)"
   ]
  },
  {
   "cell_type": "code",
   "execution_count": 17,
   "metadata": {},
   "outputs": [
    {
     "data": {
      "text/plain": [
       "13"
      ]
     },
     "execution_count": 17,
     "metadata": {},
     "output_type": "execute_result"
    }
   ],
   "source": [
    "# inpsect the number of occurrence for a given motif and a genome\n",
    "get_occurrence(M,G)"
   ]
  },
  {
   "cell_type": "markdown",
   "metadata": {},
   "source": [
    "#### Next we simulate many different motifs of the same length, and with many different choices of length"
   ]
  },
  {
   "cell_type": "markdown",
   "metadata": {},
   "source": [
    "For sequences where all four nucleotides appear independently with probability $1/4$,\n",
    "$$\n",
    "\\mathrm{Critical\\;motif\\;length}\\approx \\frac{1}{2}\\log_2L\n",
    "$$"
   ]
  },
  {
   "cell_type": "code",
   "execution_count": 20,
   "metadata": {},
   "outputs": [],
   "source": [
    "# Generate many motifs for each possible length\n",
    "\n",
    "# Probability of each nucleotide for low-complexity motifs\n",
    "# p = [0.7,0.1,0.1,0.1]\n",
    "\n",
    "# Probability of each nucleotide for high-complexity motifs\n",
    "p = [1/4,1/4,1/4,1/4]\n",
    "\n",
    "l_range = np.arange(1,20,3) # choices of l (l=1,4,7,...)\n",
    "\n",
    "N = 200 # simulate 200 motifs for each motif length (l)\n",
    "\n",
    "counts_all = [] # storing outputs\n",
    "\n",
    "for l in l_range:\n",
    "    counts = []\n",
    "    for k in range(N):\n",
    "        M = get_sequence(X,l,p)\n",
    "        counts.append(get_occurrence(M,G))\n",
    "    counts_all.append(counts)\n",
    "    \n",
    "counts_all = np.array(counts_all)"
   ]
  },
  {
   "cell_type": "code",
   "execution_count": 21,
   "metadata": {},
   "outputs": [
    {
     "data": {
      "image/png": "[encoded data removed]",
      "text/plain": [
       "<Figure size 600x400 with 1 Axes>"
      ]
     },
     "execution_count": 21,
     "metadata": {},
     "output_type": "execute_result"
    }
   ],
   "source": [
    "mean_occurrence = np.mean(counts_all,axis=1)\n",
    "\n",
    "fig, axes = plt.subplots(1,1)\n",
    "fig.set_figwidth(6)\n",
    "fig.set_figheight(4)\n",
    "\n",
    "axes.axhline(1,linestyle='dashed',color='coral')\n",
    "axes.axvline(np.log2(L)/2,linestyle='dashed',color='gray',label='Critical motif length')\n",
    "axes.plot(l_range,mean_occurrence,'o',label='Mean occurrence')\n",
    "axes.set_xlabel('Motif length (l)')\n",
    "axes.set_ylabel('Average number of occurrences')\n",
    "axes.set_yscale('log')\n",
    "axes.legend(loc = 'upper right')\n",
    "\n",
    "fig"
   ]
  },
  {
   "cell_type": "code",
   "execution_count": null,
   "metadata": {},
   "outputs": [],
   "source": []
  }
 ],
 "metadata": {
  "kernelspec": {
   "display_name": "Python 3",
   "language": "python",
   "name": "python3"
  },
  "language_info": {
   "codemirror_mode": {
    "name": "ipython",
    "version": 3
   },
   "file_extension": ".py",
   "mimetype": "text/x-python",
   "name": "python",
   "nbconvert_exporter": "python",
   "pygments_lexer": "ipython3",
   "version": "3.8.5"
  }
 },
 "nbformat": 4,
 "nbformat_minor": 5
}

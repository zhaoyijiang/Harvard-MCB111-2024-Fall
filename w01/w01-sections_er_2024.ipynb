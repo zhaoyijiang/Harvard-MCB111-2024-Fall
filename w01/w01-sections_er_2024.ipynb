{
 "cells": [
  {
   "cell_type": "code",
   "execution_count": null,
   "id": "23cb4581",
   "metadata": {},
   "outputs": [],
   "source": [
    "import numpy as np\n",
    "import math\n",
    "import random\n",
    "import matplotlib.pyplot as plt"
   ]
  },
  {
   "cell_type": "markdown",
   "id": "068ca902",
   "metadata": {},
   "source": [
    " ##Information content of DNA sequences##\n",
    "\n",
    "Often in the field of bioinformatics a question comes to mind: What is the shortest (motif) that we expect to appear only once? or What is the shortest length that can be uniquely found in the genome?\n",
    "\n",
    "This is important to find out when you are trying to figure out if a DNA sequence of interest is appearing in a genome simply by chance or it is a significant appearance.\n",
    "\n",
    "Eukaryotic genomes have on the order of L= 10^6−10^10 nucleotides.\n",
    "\n",
    "Let's generate a function that generates genomes with predetermined characteristics, so we can test some of these concept empirically:"
   ]
  },
  {
   "cell_type": "markdown",
   "id": "bd774aa7",
   "metadata": {
    "tags": []
   },
   "source": [
    "### Simulating an $L=10^6$ genome \n",
    "\n",
    "this is a samplign problem.\n",
    "   "
   ]
  },
  {
   "cell_type": "code",
   "execution_count": null,
   "id": "3ec57f06",
   "metadata": {},
   "outputs": [],
   "source": [
    "# Genome size\n",
    "L = 10**6\n",
    "\n",
    "# This is the space of possible nucleotides\n",
    "X = [\"A\",\"T\",\"C\",\"G\"]\n",
    "\n",
    "# Probability of each nucleotide\n",
    "p = [1/4,1/4,1/4,1/4]\n"
   ]
  },
  {
   "cell_type": "code",
   "execution_count": null,
   "id": "3c75f7e8",
   "metadata": {},
   "outputs": [],
   "source": [
    "# SAMPLING ALGORITHM TO GENERATE A DNA SEQUENCE OF LENGTH L\n",
    "\n",
    "# please, write your version\n",
    "\n",
    "def mysample_sequence(X,L,p):\n",
    "    S = [None]*L\n",
    "    \n",
    "    return S\n",
    "\n",
    "G = mysample_sequence(X,L,p)"
   ]
  },
  {
   "cell_type": "code",
   "execution_count": null,
   "id": "37ea1c96",
   "metadata": {},
   "outputs": [],
   "source": [
    "G.count('AAA')\n"
   ]
  },
  {
   "cell_type": "code",
   "execution_count": null,
   "id": "aad130d6",
   "metadata": {},
   "outputs": [],
   "source": [
    "# inspect the genome\n",
    "G[:10]"
   ]
  },
  {
   "cell_type": "code",
   "execution_count": null,
   "id": "da04f922",
   "metadata": {},
   "outputs": [],
   "source": [
    "# Motif size\n",
    "l = 8  \n",
    "\n",
    "# Probability of each nucleotide for high-complexity motifs\n",
    "p_motif = [1/4,1/4,1/4,1/4]\n",
    "\n",
    "# Generate the motif\n",
    "M = mysample_sequence(X,l,p_motif)"
   ]
  },
  {
   "cell_type": "code",
   "execution_count": null,
   "id": "83df7083",
   "metadata": {},
   "outputs": [],
   "source": [
    "# inspect the motif\n",
    "M"
   ]
  },
  {
   "cell_type": "code",
   "execution_count": null,
   "id": "308c902a",
   "metadata": {},
   "outputs": [],
   "source": [
    "# you can also join nucleotides into a string using this:\n",
    "# but it might crash a small-memory computer if sequence is very long\n",
    "\n",
    "# ''.join(M)"
   ]
  },
  {
   "cell_type": "code",
   "execution_count": null,
   "id": "d2e30bab",
   "metadata": {},
   "outputs": [],
   "source": [
    "# inspect the number of occurrence for a given motif in a genome\n",
    "G.count(M)"
   ]
  },
  {
   "cell_type": "markdown",
   "id": "d4b67b33",
   "metadata": {},
   "source": [
    "#### Next we simulate many different motifs of the same length, and with many different choices of length"
   ]
  },
  {
   "cell_type": "code",
   "execution_count": null,
   "id": "635ebdcd",
   "metadata": {},
   "outputs": [],
   "source": [
    "%%time\n",
    "bc = [1/4,1/4,1/4,1/4]\n",
    "#genomes   = [mysample_sequence(L=10e6, X=X, p=bc) for g in range(10)]\n",
    "#motifs_9  = [mysample_sequence(L= 9,   X=X, p=bc) for g in range(1000)]\n",
    "#motifs_11 = [mysample_sequence(L=11,   X=X, p=bc) for g in range(1000)]\n",
    "#motifs_16 = [mysample_sequence(L=16,   X=X, p=bc) for g in range(1000)]\n",
    "\n"
   ]
  },
  {
   "cell_type": "code",
   "execution_count": null,
   "id": "c5305a38",
   "metadata": {},
   "outputs": [],
   "source": [
    "#len(genomes)\n"
   ]
  },
  {
   "cell_type": "code",
   "execution_count": null,
   "id": "0f9e2c25",
   "metadata": {},
   "outputs": [],
   "source": [
    "#len(genomes[7])"
   ]
  },
  {
   "cell_type": "code",
   "execution_count": null,
   "id": "ffdd744b",
   "metadata": {},
   "outputs": [],
   "source": [
    "#counts_9  = [[genome.count(motif) for motif in np.random.choice(motifs_9,100)] for genome in genomes]\n",
    "#print('100 motifs of length 9 appear, on average ' + str(np.mean(counts_9)) + u\" \\u00B1 \" + str(round(np.std(counts_9),2)))\n",
    "#counts_16 = [[genome.count(motif) for motif in np.random.choice(motifs_16,100)] for genome in genomes]\n",
    "#print('100 motifs of length 16 appear, on average ' + str(np.mean(counts_16)) + u\" \\u00B1 \" + str(round(np.std(counts_16),2)))\n"
   ]
  },
  {
   "cell_type": "code",
   "execution_count": null,
   "id": "9318e2a0",
   "metadata": {},
   "outputs": [],
   "source": []
  }
 ],
 "metadata": {
  "kernelspec": {
   "display_name": "Python 3",
   "language": "python",
   "name": "python3"
  },
  "language_info": {
   "codemirror_mode": {
    "name": "ipython",
    "version": 3
   },
   "file_extension": ".py",
   "mimetype": "text/x-python",
   "name": "python",
   "nbconvert_exporter": "python",
   "pygments_lexer": "ipython3",
   "version": "3.8.5"
  }
 },
 "nbformat": 4,
 "nbformat_minor": 5
}

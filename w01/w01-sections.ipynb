{
  "nbformat": 4,
  "nbformat_minor": 0,
  "metadata": {
    "colab": {
      "name": "mcb111_section_w01.ipynb",
      "provenance": [],
      "collapsed_sections": []
    },
    "kernelspec": {
      "name": "python3",
      "display_name": "Python 3"
    },
    "language_info": {
      "name": "python"
    }
  },
  "cells": [
    {
      "cell_type": "markdown",
      "metadata": {
        "id": "1Vm7j-4Op7qC"
      },
      "source": [
        "# Information content of DNA sequences\n",
        "\n",
        "Often in the field of bioinformatics a question comes to mind: **What is the shortest (motif) that we expect to appear only once?** or **What is the shortest length that can be uniquely found in the genome?** \n",
        "\n",
        "This is important to find out when you are trying to figure out if a DNA sequence of interest is appearing in a genome simply by chance or it is a significant appearance.\n",
        "\n",
        "Eukaryotic genomes have on the order of L=$10^6−10^{10}$ nucleotides. We can define $l$, an arbitrary length of a motif of interest. We can also begin by saying that the composition of different bases (A, C, G, T) is balanced such that we have equal amounts of each throughout the genome. \n",
        "\n",
        "Let's generate a function that generates genomes with predetermined characteristics, so we can test some of these concept empirically:"
      ]
    },
    {
      "cell_type": "code",
      "metadata": {
        "id": "gjjyjXFPrSsr"
      },
      "source": [
        "def generate_genome(size, g_content, c_content, a_content):\n",
        "\n",
        "  ''' \n",
        "  This function generates a genome of user defined size and GC content.\n",
        "\n",
        "  Parameters:\n",
        "    - Number of bases.\n",
        "    - % of GC content.\n",
        "  '''\n",
        "\n",
        "  g_comp = ['G']*g_content\n",
        "  c_comp = ['C']*c_content\n",
        "  a_comp = ['A']*a_content\n",
        "  t_comp = ['T']*(100-(g_content+c_content+a_content))\n",
        "\n",
        "  human_genome_composition = np.array(g_comp+a_comp+t_comp+c_comp) # making array with target composition\n",
        "  human_genome = np.random.choice(human_genome_composition, int(size)) # sampling from composition to generate full genome.\n",
        "\n",
        "  return ''.join(human_genome) # returns dull genome string form"
      ],
      "execution_count": null,
      "outputs": []
    },
    {
      "cell_type": "code",
      "metadata": {
        "id": "ny020EUwZGd8",
        "colab": {
          "base_uri": "https://localhost:8080/"
        },
        "outputId": "324e2730-4ee2-4caa-8700-b1d829ec7eaa"
      },
      "source": [
        "%pylab inline\n",
        "from IPython.display import clear_output"
      ],
      "execution_count": null,
      "outputs": [
        {
          "output_type": "stream",
          "name": "stdout",
          "text": [
            "Populating the interactive namespace from numpy and matplotlib\n"
          ]
        }
      ]
    },
    {
      "cell_type": "code",
      "metadata": {
        "colab": {
          "base_uri": "https://localhost:8080/"
        },
        "id": "4iZv3EWgzfQL",
        "outputId": "fe1d5bd6-c546-4b08-eaef-cbfed356d164"
      },
      "source": [
        " %%time\n",
        " genome = generate_genome(size = 10e6, g_content = 25, c_content = 25, a_content=25)"
      ],
      "execution_count": null,
      "outputs": [
        {
          "output_type": "stream",
          "name": "stdout",
          "text": [
            "CPU times: user 2.48 s, sys: 788 ms, total: 3.27 s\n",
            "Wall time: 3.28 s\n"
          ]
        }
      ]
    },
    {
      "cell_type": "code",
      "metadata": {
        "colab": {
          "base_uri": "https://localhost:8080/",
          "height": 35
        },
        "id": "zVWCMbEGQ6XZ",
        "outputId": "fc0626ca-254e-42c4-ad2f-f69793c7b436"
      },
      "source": [
        "genome[:20]"
      ],
      "execution_count": null,
      "outputs": [
        {
          "output_type": "execute_result",
          "data": {
            "application/vnd.google.colaboratory.intrinsic+json": {
              "type": "string"
            },
            "text/plain": [
              "'AATCGGACATAAGCCGACTA'"
            ]
          },
          "metadata": {},
          "execution_count": 4
        }
      ]
    },
    {
      "cell_type": "code",
      "metadata": {
        "colab": {
          "base_uri": "https://localhost:8080/"
        },
        "id": "ilJ6tguazf5_",
        "outputId": "95bfe6e0-9ff2-488b-dee1-dced93d8ea8b"
      },
      "source": [
        "bases , counts =  np.unique(list(genome), return_counts=True)\n",
        "comps = counts/10e6*100\n",
        "\n",
        "print(\"Composition of our mock genome:\\n\"\n",
        "        + bases[0]+\": \" + str(round(comps[0],2)) + \" %\\n\"\n",
        "        + bases[1]+\": \" + str(round(comps[1],2)) + \" %\\n\"\n",
        "        + bases[2]+\": \" + str(round(comps[2],2)) + \" %\\n\"\n",
        "        + bases[3]+\": \" + str(round(comps[3],2)) + \" %\" )"
      ],
      "execution_count": null,
      "outputs": [
        {
          "output_type": "stream",
          "name": "stdout",
          "text": [
            "Composition of our mock genome:\n",
            "A: 24.98 %\n",
            "C: 25.03 %\n",
            "G: 25.0 %\n",
            "T: 24.99 %\n"
          ]
        }
      ]
    },
    {
      "cell_type": "markdown",
      "metadata": {
        "id": "Fk1f_wXbJSlG"
      },
      "source": [
        "Now we can play with our genome. For instance if we pick our motif to be “A”, it is expected to land in 1/4 of the positions in the genome. ~2.5M times"
      ]
    },
    {
      "cell_type": "code",
      "metadata": {
        "colab": {
          "base_uri": "https://localhost:8080/"
        },
        "id": "uUzgZ4Zq3TGb",
        "outputId": "f43e7e43-dbfc-4886-89f3-3caca1b4e24d"
      },
      "source": [
        "genome.count('A')"
      ],
      "execution_count": null,
      "outputs": [
        {
          "output_type": "execute_result",
          "data": {
            "text/plain": [
              "2498436"
            ]
          },
          "metadata": {},
          "execution_count": 7
        }
      ]
    },
    {
      "cell_type": "markdown",
      "metadata": {
        "id": "692eOw4RJjyJ"
      },
      "source": [
        "If we take a motif of length l=2, for instance “AA” it will match fewer than 1/4, but not much better. ~0.5M times"
      ]
    },
    {
      "cell_type": "code",
      "metadata": {
        "id": "Oi9CmMaqRXCx"
      },
      "source": [
        "s = 'AAAA'"
      ],
      "execution_count": null,
      "outputs": []
    },
    {
      "cell_type": "code",
      "metadata": {
        "colab": {
          "base_uri": "https://localhost:8080/"
        },
        "id": "J6KhZ9iORYPW",
        "outputId": "81061e75-6b41-45e2-aa46-b5fb66056a11"
      },
      "source": [
        "s.count('AA')"
      ],
      "execution_count": null,
      "outputs": [
        {
          "output_type": "execute_result",
          "data": {
            "text/plain": [
              "2"
            ]
          },
          "metadata": {},
          "execution_count": 12
        }
      ]
    },
    {
      "cell_type": "code",
      "metadata": {
        "colab": {
          "base_uri": "https://localhost:8080/"
        },
        "id": "c5ziLBGJKRUv",
        "outputId": "cce70598-08c1-4521-85d3-4ef7d24ffb05"
      },
      "source": [
        "genome.count('AA')"
      ],
      "execution_count": null,
      "outputs": [
        {
          "output_type": "execute_result",
          "data": {
            "text/plain": [
              "499303"
            ]
          },
          "metadata": {},
          "execution_count": 8
        }
      ]
    },
    {
      "cell_type": "markdown",
      "metadata": {
        "id": "R_xdXLwGeWpP"
      },
      "source": [
        "We kindof see a pattern here, the longer the sequence the less it is likely to be found in the genome. Lets try to build an intuition for the information content of a sequence by following a series of thought experiments that we can then validate through code.\n",
        "\n",
        "First Let's imagine we have a genome with 50% G, 50% C and 0% A or T composition when we sample from it sequentially, we know that we are only going to get Gs and Cs\n",
        "\n",
        "How **surprised** would we be if the next sample that we took was either a G or a C? not much, right? Because these are the only two possibilitties in this example. If we **expect** a G or a C with a 50% chance we would be equally surprised if we got one or the other.\n",
        "\n",
        "However, it is hard to say how **surprised** we would be (infinitely?) if the next sample was an A or a T. So it really isn't well defined but that's ok because we are talking about events that can't happen."
      ]
    },
    {
      "cell_type": "code",
      "metadata": {
        "colab": {
          "base_uri": "https://localhost:8080/",
          "height": 279
        },
        "id": "mc0i0L2mg3G0",
        "outputId": "3aa00088-4040-4802-8153-8f6248280524"
      },
      "source": [
        "genome = generate_genome(size = 1000, g_content = 50, c_content = 50, a_content=0) #Make genome size manageable for dynamic plotting.\n",
        "As = 0\n",
        "Ts = 0\n",
        "Gs = 0\n",
        "Cs = 0\n",
        "\n",
        "while (As+Ts+Gs+Cs)<=200:\n",
        "    \n",
        "    clear_output(wait=True)\n",
        "    fig,ax = subplots(ncols= 1,nrows =1, sharey = False)\n",
        "    ax.bar(['A','C','T','G'],[As,Cs,Ts,Gs])\n",
        "    ax.set_xlabel('Nucleotide')\n",
        "    ax.set_ylabel('Count')\n",
        "    sample = np.random.choice(list(genome),1) # making the string genome a list to sample easily\n",
        "\n",
        "    if sample == 'C':\n",
        "        Cs += 1\n",
        "    if sample == 'T':\n",
        "        Ts += 1\n",
        "    if sample == 'G':\n",
        "        Gs += 1\n",
        "    if sample == 'A':\n",
        "        As += 1        \n",
        "    plt.show()"
      ],
      "execution_count": null,
      "outputs": [
        {
          "output_type": "display_data",
          "data": {
            "image/png": "[encoded data removed]",
            "text/plain": [
              "<Figure size 432x288 with 1 Axes>"
            ]
          },
          "metadata": {
            "needs_background": "light"
          }
        }
      ]
    },
    {
      "cell_type": "markdown",
      "metadata": {
        "id": "sVa7fDW5ujVK"
      },
      "source": [
        "Lets now see what happens if make the genome 90% GC (45 and 45) and 10% AT (5 and 5)."
      ]
    },
    {
      "cell_type": "code",
      "metadata": {
        "colab": {
          "base_uri": "https://localhost:8080/",
          "height": 282
        },
        "id": "MytZrC3BugzC",
        "outputId": "b543816a-8cae-40e7-aff0-7bd907682ad5"
      },
      "source": [
        "genome = generate_genome(size = 1000, g_content = 45, c_content = 45, a_content=5) #Make genome size manageable for dynamic plotting.\n",
        "As = 0\n",
        "Ts = 0\n",
        "Gs = 0\n",
        "Cs = 0\n",
        "\n",
        "while (As+Ts+Gs+Cs)<=200:\n",
        "    \n",
        "    clear_output(wait=True)\n",
        "    fig,ax = subplots(ncols= 1,nrows =1, sharey = False)\n",
        "    ax.bar(['A','C','T','G'],[As,Cs,Ts,Gs])\n",
        "    ax.set_xlabel('Nucleotide')\n",
        "    ax.set_ylabel('Count')\n",
        "    sample = np.random.choice(list(genome),1) # making the string genome a list to sample easily\n",
        "\n",
        "    if sample == 'C':\n",
        "        Cs += 1\n",
        "    if sample == 'T':\n",
        "        Ts += 1\n",
        "    if sample == 'G':\n",
        "        Gs += 1\n",
        "    if sample == 'A':\n",
        "        As += 1        \n",
        "    plt.show()"
      ],
      "execution_count": null,
      "outputs": [
        {
          "output_type": "display_data",
          "data": {
            "image/png": "[encoded data removed]",
            "text/plain": [
              "<Figure size 432x288 with 1 Axes>"
            ]
          },
          "metadata": {
            "needs_background": "light"
          }
        }
      ]
    },
    {
      "cell_type": "markdown",
      "metadata": {
        "id": "40JhabZ_uFKX"
      },
      "source": [
        "This example basically shows us that **surprise** is inversely related to probability, the more likely an event is to occur the less surprised we'll be if it actually occurs and vice-versa.\n",
        "\n",
        "In other words and specifically for our example if the probability of sampling an A or an T is low, the **surprise** of sampling either is high. And if the probability of sampling an C or an G is high, the **surprise** of sampling either is low.\n",
        "\n",
        "A good way to describe this mathematically is by taking the logarithm of the inverse of the probability:\n",
        "\n",
        "$$\\mbox{Surprise}= S = \\log{\\frac{1}{p(x)}}$$\n",
        "\n",
        "In that case we could calculate the amount of surpise we'd expect for our genomes, for this last case it would be:\n",
        "\n",
        "\\begin{aligned}\n",
        "S_{A} &= \\log{\\frac{1}{p(A)}} = \\log{\\frac{1}{0.05}} \\approx 3 \\\\\n",
        "S_{T} &= \\log{\\frac{1}{p(T)}} = \\log{\\frac{1}{0.05}} \\approx 3 \\\\\n",
        "S_{C} &= \\log{\\frac{1}{p(C)}} = \\log{\\frac{1}{0.45}} \\approx 0.8 \\\\\n",
        "S_{G} &= \\log{\\frac{1}{p(G)}} = \\log{\\frac{1}{0.45}} \\approx 0.8\n",
        "\\end{aligned}\n",
        "\n",
        "As expected the surprise of sampling a G or a C is smaller than it is for an A or a T.\n",
        "\n",
        "But what about longer motifs? Let's say we want to know the probability of finding the sequence *GGA*, well then the probability of getting an G $p(G) = 0.45$ and the probability of getting an A $p(A) = 0.05$, so the probability of getting the motif is:\n",
        "\n",
        "$$p(GGA) = p(G) \\times p(G)  \\times p(A)  = 0.45 \\times 0.45 \\times 0.05  \\approx 0.01 $$\n",
        "\n",
        "If we want to know exactly how surprising it would be so observe this particular we can plug this probability in our previous expression for surprise:\n",
        "\n",
        "$$S_{GGA} = \\log{\\frac{1}{p(GGA)}} = \\log{\\frac{1}{0.01}} \\approx 4.59$$\n",
        "\n",
        "But more importantly notice that the total surprise for the motif is the sum of individual surprises (because of the properties of logarithms.)\n",
        "\n",
        "$$S_{GGA} = \\log{\\frac{1}{p(G)}} + \\log{\\frac{1}{p(G)}} + \\log{\\frac{1}{p(A)}} = \\log{1} - (log{G} + log{G} + log{A}) \\approx 4.59$$\n",
        "\n",
        "So far we have been talking about surprise and this must feel familiar after this weeks class. That is because **entropy (E)** is the average **surprise** per event. \n",
        "\n",
        "Tying this back to our example, how can we calculate the average entropy of a motif of length $l$? \n",
        "\n",
        "Let's first look at the entropy at a single position, which is one base of the possible A, G, C, T. \n",
        "\n",
        "$$E_\\mbox{position} = \\sum_{base \\in \\{A, G, C, T \\} } p(base) \\times surprise_{base}$$\n",
        "\n",
        "Plugging in what we set as the surprise, and simplifying:\n",
        "\n",
        "$$E_\\mbox{position} = -\\sum_{base \\in \\{A, G, C, T \\} } p(base) \\times \\log p(base)$$\n",
        "Assuming positions are independent of each other, we can use the additivity property of entropy to calculate the entropy of a motif of length $l$:\n",
        "\n",
        "$$E_\\mbox{motif} = l \\times E_\\mbox{position} = -l \\big(\\sum_{base \\in \\{A, G, C, T \\} } p(base) \\times \\log p(base) \\big)$$\n",
        "We've arrived at the formula described by shannon for entropy. What this tells us is the average information content per base position. It turns out there's a very concrete interpretation for this: it measures number of bits in a given message.\n",
        "\n",
        "#### - But how can we address the original question we had in mind? *(see top of the notebook if you've forgotten already.)*\n",
        "\n",
        "Let's try to tackle this question using the concept of **Entropy**. And for simplicity we are going to assume from now on that bases in the genome have equal probabilities of occurring along the genome.\n",
        "\n",
        "The entropy of the location of a motif is going to depend on how many times we can fit the available positions of the genome, for large (or circular) genomes of length $L$ the length of the motif $l$ is usually negligible and we can think of the number of times that we can fit the length of the motif in the genome to be the number of bases in the genome. Let $X$ be a discrete random variable representing the location in a genome of length $L$ (i.e. position 1, 2, ... $L$).\n",
        "\n",
        "An expression for the entropy of the location in the genome can be written as follows:\n",
        "\n",
        "$$E_\\mbox{location} = -\\sum_{i=1}^{L} p(x_i) \\log(p(x_i))\n",
        "$$\n",
        "\n",
        "Let's assume all locations of the genome are equally likely for the motif, so the probability of finding the motif at any $x_i$ is:\n",
        "\n",
        "$$p(x_i) = \\frac{1}{L}\n",
        "$$\n",
        "\n",
        "Plugging this back into the equation we get:\n",
        "\n",
        "$$E_\\mbox{location} = - \\log(1/L)\n",
        "$$\n",
        "\n",
        "$$E_\\mbox{location} = \\log(L)\n",
        "$$\n",
        "\n",
        "We can also calculate the information content of our motif:\n",
        "\n",
        "$$E_\\mbox{motif} = -l \\big(\\sum_{base \\in \\{A, G, C, T \\} } p(base) \\times \\log p(base) \\big)$$\n",
        "\n",
        "Let's assume that A, G, C, T are all equally likely, so we have a $p(A) = p(G) = p(C) = p(T) = 1/4$:\n",
        "\n",
        "\n",
        "$$\\begin{aligned}\n",
        "E_\\mbox{motif} &= -l \\big(\\sum_{base \\in \\{A, G, C, T \\} } \\frac{1}{4} \\times \\log \\frac{1}{4} \\big) \\\\\n",
        "&= -l \\log \\frac{1}{4} \\\\\n",
        "&= l \\log 4 \\\\\n",
        "& = 2l \\\\\n",
        "\\end{aligned}$$\n",
        "\n",
        "Great, now what we want is to find the $l$ so that the entropy of our motif is at least as large as the entropy of the location:\n",
        "\n",
        "$$\\begin{aligned}\n",
        "E_\\mbox{location} &\\leq E_\\mbox{motif} \\\\\n",
        "\\log L &\\leq 2l \\\\\n",
        "\\end{aligned}$$\n",
        "\n",
        "Thus:\n",
        "$$ l \\geq \\frac{1}{2}log(L)\n",
        "$$\n",
        "\n",
        "The sequence has to be at least $\\frac{1}{2}log(L)$ long for it to be in a genome with equal base composition. We can check this computationally! \n",
        "\n",
        "Let's generate genomes of size $10\\times10^6$ which means that the minimum sequence length for it to be uniquely found in a genome of that size must be at least 12 bases long (rounding up!). Let's make 10 genomes to sample from. and pick a couple of length 12 motifs to see how many times they come up in the genomes:"
      ]
    },
    {
      "cell_type": "code",
      "metadata": {
        "colab": {
          "base_uri": "https://localhost:8080/"
        },
        "id": "fZUOG9Ib_i_J",
        "outputId": "f900181b-ee4d-4237-cf56-4c14df3fe51e"
      },
      "source": [
        "L = 10e6\n",
        "1/2 * np.log2(L)"
      ],
      "execution_count": null,
      "outputs": [
        {
          "output_type": "execute_result",
          "data": {
            "text/plain": [
              "11.626748332105768"
            ]
          },
          "metadata": {},
          "execution_count": 15
        }
      ]
    },
    {
      "cell_type": "code",
      "metadata": {
        "colab": {
          "base_uri": "https://localhost:8080/"
        },
        "id": "BrN93lRU9z65",
        "outputId": "f93613f1-3bde-49c2-ac0f-6cd7378592e8"
      },
      "source": [
        "%%time\n",
        "genomes = [generate_genome(size = 10e6, g_content = 25, c_content = 25, a_content=25) for g in range(10)]\n",
        "motifs_16 = [generate_genome(size=16, g_content = 25, c_content = 25, a_content=25) for g in range(1000)]\n",
        "motifs_12 = [generate_genome(size=12, g_content = 25, c_content = 25, a_content=25) for g in range(1000)]\n",
        "motifs_11 = [generate_genome(size=11, g_content = 25, c_content = 25, a_content=25) for g in range(1000)]\n",
        "motifs_9 = [generate_genome(size=9, g_content = 25, c_content = 25, a_content=25) for g in range(1000)]"
      ],
      "execution_count": null,
      "outputs": [
        {
          "output_type": "stream",
          "name": "stdout",
          "text": [
            "CPU times: user 25.3 s, sys: 5.68 s, total: 31 s\n",
            "Wall time: 30.9 s\n"
          ]
        }
      ]
    },
    {
      "cell_type": "code",
      "metadata": {
        "colab": {
          "base_uri": "https://localhost:8080/"
        },
        "id": "Al8a_RWxIpDo",
        "outputId": "42342d5a-707b-43d5-8ede-cda9c0a08c4c"
      },
      "source": [
        "counts_16 = [[genome.count(motif) for motif in np.random.choice(motifs_16,100)] for genome in genomes]\n",
        "print('100 motifs of length 16 appear, on average ' + str(mean(counts_16)) + u\" \\u00B1 \" + str(round(std(counts_16),2)))\n",
        "\n",
        "counts_12 = [[genome.count(motif) for motif in np.random.choice(motifs_12,100)] for genome in genomes]\n",
        "print('100 motifs of length 12 appear, on average ' + str(mean(counts_12)) + u\" \\u00B1 \" + str(round(std(counts_12),2)))\n",
        "\n",
        "counts_11 = [[genome.count(motif) for motif in np.random.choice(motifs_11,100)] for genome in genomes]\n",
        "print('100 motifs of length 11 appear, on average ' + str(mean(counts_11)) + u\" \\u00B1 \" + str(round(std(counts_11),2)))\n",
        "\n",
        "counts_9 = [[genome.count(motif) for motif in np.random.choice(motifs_9,100)] for genome in genomes]\n",
        "print('100 motifs of length 9 appear, on average ' + str(mean(counts_9)) + u\" \\u00B1 \" + str(round(std(counts_9),2)))\n",
        "\n"
      ],
      "execution_count": null,
      "outputs": [
        {
          "output_type": "stream",
          "name": "stdout",
          "text": [
            "100 motifs of length 16 appear, on average 0.0 ± 0.0\n",
            "100 motifs of length 12 appear, on average 0.586 ± 0.76\n",
            "100 motifs of length 11 appear, on average 2.473 ± 1.56\n",
            "100 motifs of length 9 appear, on average 37.99 ± 6.28\n"
          ]
        }
      ]
    },
    {
      "cell_type": "code",
      "metadata": {
        "id": "cElGzekfBr1J"
      },
      "source": [
        ""
      ],
      "execution_count": null,
      "outputs": []
    }
  ]
}